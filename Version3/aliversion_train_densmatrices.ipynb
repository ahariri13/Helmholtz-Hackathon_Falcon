{
  "nbformat": 4,
  "nbformat_minor": 0,
  "metadata": {
    "colab": {
      "name": "aliversion_DataLoader_Helmholtz.ipynb",
      "provenance": [],
      "collapsed_sections": []
    },
    "kernelspec": {
      "name": "python3",
      "display_name": "Python 3"
    },
    "accelerator": "GPU"
  },
  "cells": [
    {
      "cell_type": "code",
      "metadata": {
        "id": "lo498ucQwt2T",
        "colab_type": "code",
        "colab": {}
      },
      "source": [
        "!pip install torch==1.5.1+cu101 torchvision==0.6.1+cu101 -f https://download.pytorch.org/whl/torch_stable.html"
      ],
      "execution_count": null,
      "outputs": []
    },
    {
      "cell_type": "code",
      "metadata": {
        "id": "yKGLod_pyT2H",
        "colab_type": "code",
        "colab": {}
      },
      "source": [
        "\n",
        "!pip install torch-scatter==latest+cu101 -f https://pytorch-geometric.com/whl/torch-1.5.0.html\n",
        "!pip install torch-sparse==latest+cu101 -f https://pytorch-geometric.com/whl/torch-1.5.0.html\n",
        "!pip install torch-cluster==latest+cu101 -f https://pytorch-geometric.com/whl/torch-1.5.0.html\n",
        "!pip install torch-spline-conv==latest+cu101 -f https://pytorch-geometric.com/whl/torch-1.5.0.html\n",
        "!pip install torch-geometric\n"
      ],
      "execution_count": null,
      "outputs": []
    },
    {
      "cell_type": "code",
      "metadata": {
        "id": "k7NlubExodsW",
        "colab_type": "code",
        "colab": {}
      },
      "source": [
        "from torch.autograd import Variable\n",
        "import torch_geometric.transforms\n",
        "from torch_geometric.transforms import knn_graph\n",
        "import torch_geometric.data\n",
        "import torch \n",
        "from torch_geometric.data import Data\n",
        "import numpy as np\n",
        "import pandas as pd\n",
        "from scipy.spatial import distance_matrix\n",
        "import torch\n",
        "import pyarrow as pa\n",
        "import pyarrow.parquet as pq\n",
        "import h5py\n",
        "import matplotlib.pyplot as plt\n",
        "from mpl_toolkits.mplot3d import Axes3D\n",
        "from torch_geometric.nn import knn_graph\n",
        "import os \n",
        "\n",
        "from torch.utils.data import *\n",
        "from functools import partial\n",
        "import timeit"
      ],
      "execution_count": 3,
      "outputs": []
    },
    {
      "cell_type": "code",
      "metadata": {
        "id": "BWU7C2D74bbg",
        "colab_type": "code",
        "colab": {}
      },
      "source": [
        "import argparse\n",
        "use_cuda = torch.cuda.is_available()\n",
        "device = torch.device(\"cuda\" if use_cuda else \"cpu\")\n",
        "\n",
        "\n",
        "parser = argparse.ArgumentParser()\n",
        "parser.add_argument('--seed', type=int, default=42, help='Random seed.')\n",
        "parser.add_argument('--epochs', type=int, default=50, help='Number of epochs to train.')\n",
        "parser.add_argument('--batch_size', type=int, default=16, help='Initial learning rate.') #100\n",
        "\n",
        "parser.add_argument('--lr', type=float, default=0.001, help='Initial learning rate.') #0.001\n",
        "parser.add_argument('--dropout', type=float, default=0.3, help='Dropout rate (1 - keep probability).')\n",
        "args = parser.parse_args([])\n",
        "torch.backends.cudnn.benchmark = True"
      ],
      "execution_count": 4,
      "outputs": []
    },
    {
      "cell_type": "code",
      "metadata": {
        "id": "zlr5poTlwwJV",
        "colab_type": "code",
        "colab": {}
      },
      "source": [
        "class ParquetDataset(Dataset):\n",
        "    def __init__(self, filename):\n",
        "        self.parquet = pq.ParquetFile(filename)\n",
        "        self.cols = None \n",
        "    def __getitem__(self, index):\n",
        "        data = self.parquet.read_row_group(index, columns=self.cols).to_pydict()\n",
        "        data['X_jets'] = np.float32(data['X_jets'][0]) \n",
        "        # Preprocessing\n",
        "        data['X_jets'] = data['X_jets'][1]\n",
        "        data['X_jets'][data['X_jets'] < 1.e-3] = 0. # Zero-Suppression\n",
        "        return dict(data)\n",
        "    def __len__(self):\n",
        "        return self.parquet.num_row_groups"
      ],
      "execution_count": 5,
      "outputs": []
    },
    {
      "cell_type": "code",
      "metadata": {
        "id": "sKpUsugnw0ZF",
        "colab_type": "code",
        "colab": {}
      },
      "source": [
        "def jets(i, ecal):\n",
        "    xhit2,yhit2 = torch.nonzero(ecal[i])[:, 0].cpu().numpy(), torch.nonzero(ecal[i])[:, 1].cpu().numpy()    \n",
        "    eneEcal=ecal[i].cpu().numpy()[xhit2,yhit2]\n",
        "    feats=np.transpose(np.vstack((xhit2,yhit2,eneEcal)))  ## concatenate x,y locations and energies (3 features in total)\n",
        "    cords=feats[:,[0,1]] ## cords = x,y coordinates \n",
        "    allFeats=torch.from_numpy(feats).float()  ## features to tensors \n",
        "    cords2=torch.from_numpy(cords)  ## coordinates to tensors \n",
        "    edge_index = knn_graph(cords2, k=4, batch=None, loop=True)  ## Create knn graph adjacency matrix \n",
        "    data=Data(x=allFeats,edge_index=edge_index) ## Create graph data with feature matrix x and adjacency matrix edge_index\n",
        "    return data"
      ],
      "execution_count": 6,
      "outputs": []
    },
    {
      "cell_type": "code",
      "metadata": {
        "id": "AG0tScMazEwB",
        "colab_type": "code",
        "colab": {}
      },
      "source": [
        "def get_data_loader(datasets, batch_size, cut, random_sampler=False):\n",
        "    dset = ConcatDataset([ParquetDataset(dataset) for dataset in datasets])\n",
        "    idxs = np.random.permutation(len(dset))\n",
        "    if random_sampler: \n",
        "        random_sampler = sampler.SubsetRandomSampler(idxs[:cut])\n",
        "    else: \n",
        "        random_sampler = None \n",
        "    data_loader = DataLoader(dataset=dset, batch_size=batch_size, shuffle=False, num_workers=10, sampler=random_sampler, pin_memory=True)\n",
        "    return data_loader"
      ],
      "execution_count": 7,
      "outputs": []
    },
    {
      "cell_type": "code",
      "metadata": {
        "id": "-oscUfco4LXu",
        "colab_type": "code",
        "colab": {
          "base_uri": "https://localhost:8080/",
          "height": 34
        },
        "outputId": "41d23127-1711-493f-a2fe-c7e42d081303"
      },
      "source": [
        "from google.colab import drive\n",
        "drive.mount('/content/drive')"
      ],
      "execution_count": 8,
      "outputs": [
        {
          "output_type": "stream",
          "text": [
            "Mounted at /content/drive\n"
          ],
          "name": "stdout"
        }
      ]
    },
    {
      "cell_type": "code",
      "metadata": {
        "id": "ufP5oAlv4T_p",
        "colab_type": "code",
        "colab": {
          "base_uri": "https://localhost:8080/",
          "height": 34
        },
        "outputId": "2358b6be-9515-4a64-cfc9-9cccc6206b72"
      },
      "source": [
        "cd drive/My\\ Drive/parquets"
      ],
      "execution_count": 9,
      "outputs": [
        {
          "output_type": "stream",
          "text": [
            "/content/drive/My Drive/parquets\n"
          ],
          "name": "stdout"
        }
      ]
    },
    {
      "cell_type": "code",
      "metadata": {
        "id": "yHZU441jzIuG",
        "colab_type": "code",
        "colab": {}
      },
      "source": [
        "datasets = ['Boosted_Jets_Sample-%i.snappy.parquet'%i for i in range(1)]\n",
        "data_loader = get_data_loader(datasets, args.batch_size, cut = None, random_sampler = True)"
      ],
      "execution_count": 10,
      "outputs": []
    },
    {
      "cell_type": "code",
      "metadata": {
        "id": "GhNQbCpD29ev",
        "colab_type": "code",
        "colab": {}
      },
      "source": [
        "def jets(datei,number1,number2):\n",
        "\n",
        "    cols = None\n",
        "    graphs=[]\n",
        "\n",
        "    for i in range(number1,number2):\n",
        "      #datei['X_jets'] = np.float32(datei['X_jets']) [0] \n",
        "      \n",
        "      #ecal=datei['X_jets'][1]  ## Select ECAL Data out of the 3 available channels\n",
        "\n",
        "      #ecal[ecal<=1e-3]=0  ## Remove noisy values\n",
        "      \n",
        "      ecal=datei[i].cpu().numpy()\n",
        "\n",
        "      xhit2,yhit2=np.nonzero(ecal)  ## Select hits in detector\n",
        "\n",
        "      eneEcal=ecal[xhit2,yhit2]  ## Select energies of hits\n",
        "\n",
        "      feats=np.transpose(np.vstack((xhit2,yhit2,eneEcal)))  ## concatenate x,y locations and energies (3 features in total)\n",
        "      \n",
        "      cords=feats[:,[0,1]] ## cords = x,y coordinates \n",
        "      \n",
        "      allFeats=torch.from_numpy(feats).float()  ## features to tensors \n",
        "      \n",
        "      cords2=torch.from_numpy(cords)  ## coordinates to tensors \n",
        "    \n",
        "      edge_index = knn_graph(cords2, k=6, batch=None, loop=True)  ## Create knn graph adjacency matrix \n",
        "\n",
        "      donnees=Data(x=allFeats,edge_index=edge_index) ## Create graph data with feature matrix x and adjacency matrix edge_index\n",
        "      \n",
        "      graphs.append(donnees)\n",
        "\n",
        "    return graphs\n"
      ],
      "execution_count": 11,
      "outputs": []
    },
    {
      "cell_type": "code",
      "metadata": {
        "id": "SdryZNd3AibR",
        "colab_type": "code",
        "colab": {}
      },
      "source": [
        "import torch_geometric.transforms\n",
        "from torch_geometric.nn import knn_graph\n",
        "import torch_geometric.data\n",
        "import torch \n",
        "from torch_geometric.data import Data\n",
        "import numpy as np\n",
        "def torchjets(datei,number1,number2):\n",
        "\n",
        "    cols = None\n",
        "\n",
        "    graphs=[]\n",
        "\n",
        "    for i in range(number1,number2):\n",
        "\n",
        "      ecal=datei[i]\n",
        "\n",
        "      xhit2,yhit2=torch.nonzero(ecal,as_tuple=True)  ## Select hits in detector\n",
        "\n",
        "      eneEcal=-torch.log(ecal[xhit2,yhit2]) ## Select energies of hits\n",
        "\n",
        "      feats=torch.stack((xhit2.float(),yhit2.float(),eneEcal),dim=1) ## concatenate x,y locations and energies (3 features in total)\n",
        "\n",
        "      cords=feats[:,[0,1]].cuda() ## cords = x,y coordinates \n",
        "\n",
        "\n",
        "      edge_index = knn_graph(cords[:2000], k=6, batch=None, loop=True,num_workers=10)  ## Create knn graph adjacency matrix \n",
        "\n",
        "      donnees=Data(x=feats[:2000],edge_index=edge_index) ## Create graph data with feature matrix x and adjacency matrix edge_index\n",
        "      \n",
        "      graphs.append(donnees)\n",
        "\n",
        "    return graphs"
      ],
      "execution_count": 12,
      "outputs": []
    },
    {
      "cell_type": "code",
      "metadata": {
        "id": "F1B7F5yBw8gj",
        "colab_type": "code",
        "colab": {
          "base_uri": "https://localhost:8080/",
          "height": 34
        },
        "outputId": "3dbddd8c-09e8-41a0-99c5-d53a73551e2d"
      },
      "source": [
        "cd ../v22/Version2_Pooling"
      ],
      "execution_count": 13,
      "outputs": [
        {
          "output_type": "stream",
          "text": [
            "/content/drive/My Drive/v22/Version2_Pooling\n"
          ],
          "name": "stdout"
        }
      ]
    },
    {
      "cell_type": "code",
      "metadata": {
        "id": "0PLuWK0Fwr1r",
        "colab_type": "code",
        "colab": {}
      },
      "source": [
        "import VAE#DiffAE"
      ],
      "execution_count": 14,
      "outputs": []
    },
    {
      "cell_type": "code",
      "metadata": {
        "id": "6kSQIPUpwIXe",
        "colab_type": "code",
        "colab": {
          "base_uri": "https://localhost:8080/",
          "height": 478
        },
        "outputId": "3ccb5d54-6841-45d9-a5cd-cfaaf77b9288"
      },
      "source": [
        "model3=VAE.GraphAE(3,16,32,64,128,256,512, 0.3)#DiffAE.GraphAE()\n",
        "model3.train()\n",
        "model3.to(device)#.cuda()"
      ],
      "execution_count": 15,
      "outputs": [
        {
          "output_type": "execute_result",
          "data": {
            "text/plain": [
              "GraphAE(\n",
              "  (sage1): DenseGCNConv(3, 16)\n",
              "  (sage2): DenseGCNConv(16, 32)\n",
              "  (poolit1): DenseGCNConv(32, 500)\n",
              "  (poolit2): DenseGCNConv(128, 250)\n",
              "  (poolit3): DenseGCNConv(256, 10)\n",
              "  (sage3): DenseGCNConv(32, 64)\n",
              "  (sage4): DenseGCNConv(64, 128)\n",
              "  (sage5): DenseGCNConv(128, 256)\n",
              "  (tr1): Linear(in_features=256, out_features=512, bias=True)\n",
              "  (tr2): Linear(in_features=512, out_features=2048, bias=True)\n",
              "  (rev1): Linear(in_features=512, out_features=256, bias=True)\n",
              "  (rev2): Linear(in_features=2048, out_features=512, bias=True)\n",
              "  (revsage1): DenseGCNConv(16, 3)\n",
              "  (revsage2): DenseGCNConv(32, 16)\n",
              "  (revsage3): DenseGCNConv(64, 32)\n",
              "  (revsage4): DenseGCNConv(128, 64)\n",
              "  (revsage5): DenseGCNConv(256, 128)\n",
              "  (drop): Dropout(p=0.2, inplace=False)\n",
              "  (bano1): BatchNorm1d(2000, eps=1e-05, momentum=0.1, affine=True, track_running_stats=True)\n",
              "  (bano2): BatchNorm1d(2000, eps=1e-05, momentum=0.1, affine=True, track_running_stats=True)\n",
              "  (bano3): BatchNorm1d(500, eps=1e-05, momentum=0.1, affine=True, track_running_stats=True)\n",
              "  (bano4): BatchNorm1d(500, eps=1e-05, momentum=0.1, affine=True, track_running_stats=True)\n",
              "  (bano5): BatchNorm1d(250, eps=1e-05, momentum=0.1, affine=True, track_running_stats=True)\n",
              "  (bano6): BatchNorm1d(40, eps=1e-05, momentum=0.1, affine=True, track_running_stats=True)\n",
              ")"
            ]
          },
          "metadata": {
            "tags": []
          },
          "execution_count": 15
        }
      ]
    },
    {
      "cell_type": "code",
      "metadata": {
        "id": "tahaLy3ryZsK",
        "colab_type": "code",
        "colab": {
          "base_uri": "https://localhost:8080/",
          "height": 478
        },
        "outputId": "98367ced-fbc1-450b-82d2-0aef72cd2dbd"
      },
      "source": [
        "\n",
        "checkpoint = torch.load('loadBatches_b16_pool3.pth')\n",
        "model3.load_state_dict(checkpoint['model_state_dict'])\n",
        "optimizer.load_state_dict(checkpoint['optimizer_state_dict'])\n",
        "for state in optimizer.state.values():\n",
        "    for k, v in state.items():\n",
        "        if isinstance(v, torch.Tensor):\n",
        "            state[k] = v.cuda()\n",
        "model3.eval()\n",
        "model3.to(device)\n"
      ],
      "execution_count": 18,
      "outputs": [
        {
          "output_type": "execute_result",
          "data": {
            "text/plain": [
              "GraphAE(\n",
              "  (sage1): DenseGCNConv(3, 16)\n",
              "  (sage2): DenseGCNConv(16, 32)\n",
              "  (poolit1): DenseGCNConv(32, 500)\n",
              "  (poolit2): DenseGCNConv(128, 250)\n",
              "  (poolit3): DenseGCNConv(256, 10)\n",
              "  (sage3): DenseGCNConv(32, 64)\n",
              "  (sage4): DenseGCNConv(64, 128)\n",
              "  (sage5): DenseGCNConv(128, 256)\n",
              "  (tr1): Linear(in_features=256, out_features=512, bias=True)\n",
              "  (tr2): Linear(in_features=512, out_features=2048, bias=True)\n",
              "  (rev1): Linear(in_features=512, out_features=256, bias=True)\n",
              "  (rev2): Linear(in_features=2048, out_features=512, bias=True)\n",
              "  (revsage1): DenseGCNConv(16, 3)\n",
              "  (revsage2): DenseGCNConv(32, 16)\n",
              "  (revsage3): DenseGCNConv(64, 32)\n",
              "  (revsage4): DenseGCNConv(128, 64)\n",
              "  (revsage5): DenseGCNConv(256, 128)\n",
              "  (drop): Dropout(p=0.2, inplace=False)\n",
              "  (bano1): BatchNorm1d(2000, eps=1e-05, momentum=0.1, affine=True, track_running_stats=True)\n",
              "  (bano2): BatchNorm1d(2000, eps=1e-05, momentum=0.1, affine=True, track_running_stats=True)\n",
              "  (bano3): BatchNorm1d(500, eps=1e-05, momentum=0.1, affine=True, track_running_stats=True)\n",
              "  (bano4): BatchNorm1d(500, eps=1e-05, momentum=0.1, affine=True, track_running_stats=True)\n",
              "  (bano5): BatchNorm1d(250, eps=1e-05, momentum=0.1, affine=True, track_running_stats=True)\n",
              "  (bano6): BatchNorm1d(40, eps=1e-05, momentum=0.1, affine=True, track_running_stats=True)\n",
              ")"
            ]
          },
          "metadata": {
            "tags": []
          },
          "execution_count": 18
        }
      ]
    },
    {
      "cell_type": "code",
      "metadata": {
        "id": "4uhVdiHY_fNa",
        "colab_type": "code",
        "colab": {}
      },
      "source": [
        "scaler = torch.cuda.amp.GradScaler() "
      ],
      "execution_count": null,
      "outputs": []
    },
    {
      "cell_type": "code",
      "metadata": {
        "id": "njSgFz7zwSmK",
        "colab_type": "code",
        "colab": {}
      },
      "source": [
        "optimizer = torch.optim.Adam(model3.parameters(), lr=args.lr, weight_decay=0.0001)"
      ],
      "execution_count": 17,
      "outputs": []
    },
    {
      "cell_type": "code",
      "metadata": {
        "id": "OU2WtJK6xSqo",
        "colab_type": "code",
        "colab": {}
      },
      "source": [
        "\n",
        "## generate list to count nodes for each graph\n",
        "def nodeCounter(samples):\n",
        "    inds=[]\n",
        "    for k in samples:\n",
        "        inds.append(k['x'].shape[0])\n",
        "    return inds"
      ],
      "execution_count": 19,
      "outputs": []
    },
    {
      "cell_type": "code",
      "metadata": {
        "id": "JMxMRStZxbZw",
        "colab_type": "code",
        "colab": {}
      },
      "source": [
        "def ref(bsize,nodeC,i1,i2):\n",
        "  maxC=np.max(np.array(nodeC))\n",
        "  maxC=2000#maxC + (4 - maxC % 4) ##max num of nodes 1161%4\n",
        "  refMat=np.zeros((bsize,maxC)) ## matrix of zeros\n",
        "  for pi in range(i1,i2):##10\n",
        "    refMat[bsize-(i2-pi),:nodeC[pi]]=1 ## fill ones \n",
        "  return refMat,maxC"
      ],
      "execution_count": 20,
      "outputs": []
    },
    {
      "cell_type": "code",
      "metadata": {
        "id": "TY3rA_DUyfOQ",
        "colab_type": "code",
        "colab": {}
      },
      "source": [
        "def assigner(nodelist):\n",
        "  fin=[]\n",
        "  countit=0\n",
        "  for m in nodelist:\n",
        "      fin.append(np.repeat(countit,m))\n",
        "      countit+=1\n",
        "  return np.array(fin)"
      ],
      "execution_count": 21,
      "outputs": []
    },
    {
      "cell_type": "code",
      "metadata": {
        "id": "vs29jExP3Emg",
        "colab_type": "code",
        "colab": {}
      },
      "source": [
        "from optimizer import loss_function"
      ],
      "execution_count": 22,
      "outputs": []
    },
    {
      "cell_type": "code",
      "metadata": {
        "id": "LScWL694ARh6",
        "colab_type": "code",
        "colab": {}
      },
      "source": [
        "#from torch.cuda.amp import GradScaler, autocast"
      ],
      "execution_count": null,
      "outputs": []
    },
    {
      "cell_type": "code",
      "metadata": {
        "id": "OHDA2ZkExnKt",
        "colab_type": "code",
        "colab": {
          "base_uri": "https://localhost:8080/",
          "height": 1000
        },
        "outputId": "a3da5a34-a00e-4c01-92e3-1a19dfeafb52"
      },
      "source": [
        "import time\n",
        "for epoch in range(50):\n",
        "      #model.train()\n",
        "  count=0\n",
        "  c1,c2=0,args.batch_size\n",
        "  epLoss=0\n",
        "  t = time.time()\n",
        "  for i, data in enumerate(data_loader):\n",
        "        ecal2 = data['X_jets'].cuda()\n",
        "        rawGraph=torchjets(ecal2,0,args.batch_size) ##Generating graphs from raw data \n",
        "        nodeCount=nodeCounter(rawGraph)\n",
        "        lengs=torch.LongTensor(np.hstack(assigner(np.array(nodeCount[c1:c2])-c1))).cuda()\n",
        "        \n",
        "        compress=torch_geometric.data.Batch.from_data_list(rawGraph)\n",
        "\n",
        "        gra=compress.x.to(device)\n",
        "        adj=compress.edge_index.to(device)\n",
        "\n",
        "        count+=1\n",
        "        refMat,maxCount=ref(args.batch_size,nodeCount,c1,c2)\n",
        "        \n",
        "        optimizer.zero_grad()\n",
        "        mask=torch.from_numpy(refMat).to(device) \n",
        "        #maxi=torch.from_numpy(np.array(maxCount)).to(device)\n",
        "\n",
        "        r1 ,adj1,mu,sig= model3(gra,adj,lengs.to(device),mask,2000)\n",
        "\n",
        "        #sparse=to_sparse_batch(r1, adj1, mask=torch.LongTensor(mask).cuda())\n",
        "\n",
        "        loss = loss_function(r1,gra,nodeCount,lengs,2000,mu,sig)/args.batch_size    \n",
        "\n",
        "\n",
        "        \"\"\"\n",
        "        with torch.cuda.amp.autocast(): \n",
        "            loss = loss_function(r1,gra,lengs,refMat,mu,sig)  \n",
        "      \n",
        "        # Scales the loss, and calls backward() \n",
        "        # to create scaled gradients \n",
        "        scaler.scale(loss).backward() \n",
        "      \n",
        "        # Unscales gradients and calls \n",
        "        # or skips optimizer.step() \n",
        "        scaler.step(optimizer) \n",
        "      \n",
        "        # Updates the scale for next iteration \n",
        "        scaler.update() \n",
        "        \"\"\"    \n",
        "\n",
        "        loss.backward()\n",
        "\n",
        "        optimizer.step()\n",
        "\n",
        "        cur_loss = loss.item()\n",
        "        \n",
        "        epLoss+=float(cur_loss)\n",
        "\n",
        "        #c1+=args.batch_size\n",
        "        #c2+=args.batch_size\n",
        "        if count%900==0:\n",
        "            print(\"Epoch:\", '%04d' % (epoch + 1), \"train_loss=\", \"{:.5f}\".format(epLoss/count),\"time=\", \"{:.5f}\".format(time.time() - t))\n",
        "            t = time.time()\n",
        "\n",
        "  torch.save({\n",
        "        'epoch': epoch,\n",
        "        'model_state_dict': model3.state_dict(),\n",
        "        'optimizer_state_dict': optimizer.state_dict(),\n",
        "        'epoch':epoch,\n",
        "        'loss': loss,\n",
        "        'epLoss':epLoss\n",
        "        }, './loadBatches_b16_pool3.pth')\n"
      ],
      "execution_count": null,
      "outputs": [
        {
          "output_type": "stream",
          "text": [
            "/usr/local/lib/python3.6/dist-packages/torch/nn/functional.py:1558: UserWarning: nn.functional.tanh is deprecated. Use torch.tanh instead.\n",
            "  warnings.warn(\"nn.functional.tanh is deprecated. Use torch.tanh instead.\")\n"
          ],
          "name": "stderr"
        },
        {
          "output_type": "stream",
          "text": [
            "Epoch: 0001 train_loss= 178.40236 time= 628.34234\n",
            "Epoch: 0001 train_loss= 175.36497 time= 609.10003\n",
            "Epoch: 0002 train_loss= 164.91543 time= 606.91102\n",
            "Epoch: 0002 train_loss= 162.14219 time= 599.15306\n",
            "Epoch: 0003 train_loss= 152.75018 time= 599.48428\n",
            "Epoch: 0003 train_loss= 150.35433 time= 590.94368\n",
            "Epoch: 0004 train_loss= 142.42210 time= 589.28247\n",
            "Epoch: 0004 train_loss= 140.26258 time= 585.04688\n",
            "Epoch: 0005 train_loss= 132.24339 time= 588.48629\n",
            "Epoch: 0005 train_loss= 130.77431 time= 587.11707\n",
            "Epoch: 0006 train_loss= 124.07894 time= 591.41087\n",
            "Epoch: 0006 train_loss= 122.29631 time= 585.83221\n",
            "Epoch: 0007 train_loss= 116.23299 time= 589.74628\n",
            "Epoch: 0007 train_loss= 114.59743 time= 586.92941\n",
            "Epoch: 0008 train_loss= 109.34608 time= 597.12317\n",
            "Epoch: 0008 train_loss= 108.46691 time= 592.66279\n",
            "Epoch: 0009 train_loss= 103.56319 time= 600.57214\n",
            "Epoch: 0009 train_loss= 102.59205 time= 596.65919\n",
            "Epoch: 0010 train_loss= 98.60540 time= 601.21698\n",
            "Epoch: 0010 train_loss= 97.72580 time= 596.37192\n",
            "Epoch: 0011 train_loss= 94.54287 time= 596.72751\n",
            "Epoch: 0011 train_loss= 93.51484 time= 599.14797\n",
            "Epoch: 0012 train_loss= 90.75521 time= 601.45305\n",
            "Epoch: 0012 train_loss= 90.11210 time= 598.45407\n",
            "Epoch: 0013 train_loss= 88.03967 time= 604.21518\n",
            "Epoch: 0013 train_loss= 87.18659 time= 599.39946\n",
            "Epoch: 0014 train_loss= 86.53347 time= 600.41436\n",
            "Epoch: 0014 train_loss= 86.21475 time= 597.61662\n",
            "Epoch: 0015 train_loss= 85.39701 time= 600.63815\n",
            "Epoch: 0015 train_loss= 85.08724 time= 592.92674\n",
            "Epoch: 0016 train_loss= 83.89342 time= 595.96031\n",
            "Epoch: 0016 train_loss= 83.52258 time= 589.09968\n",
            "Epoch: 0017 train_loss= 82.32780 time= 593.41745\n",
            "Epoch: 0017 train_loss= 82.19670 time= 590.53146\n",
            "Epoch: 0018 train_loss= 80.84036 time= 610.07062\n",
            "Epoch: 0018 train_loss= 80.96022 time= 606.51076\n",
            "Epoch: 0019 train_loss= 80.40112 time= 620.02872\n",
            "Epoch: 0019 train_loss= 80.28667 time= 617.96132\n",
            "Epoch: 0020 train_loss= 80.23566 time= 605.24311\n",
            "Epoch: 0020 train_loss= 79.89085 time= 600.45760\n",
            "Epoch: 0021 train_loss= 79.16361 time= 602.81580\n",
            "Epoch: 0021 train_loss= 79.53167 time= 609.88103\n",
            "Epoch: 0022 train_loss= 78.81564 time= 619.43759\n",
            "Epoch: 0022 train_loss= 79.40473 time= 611.68194\n",
            "Epoch: 0023 train_loss= 79.08788 time= 607.84551\n",
            "Epoch: 0023 train_loss= 79.30597 time= 595.22535\n",
            "Epoch: 0024 train_loss= 79.31752 time= 606.48751\n",
            "Epoch: 0024 train_loss= 79.40778 time= 599.27642\n",
            "Epoch: 0025 train_loss= 78.91899 time= 596.79905\n",
            "Epoch: 0025 train_loss= 79.26005 time= 596.31926\n",
            "Epoch: 0026 train_loss= 79.85570 time= 623.56638\n",
            "Epoch: 0026 train_loss= 79.23516 time= 599.56617\n",
            "Epoch: 0027 train_loss= 79.21689 time= 596.32090\n",
            "Epoch: 0027 train_loss= 79.40951 time= 597.08355\n"
          ],
          "name": "stdout"
        }
      ]
    },
    {
      "cell_type": "code",
      "metadata": {
        "id": "JF9Gj9NELLEP",
        "colab_type": "code",
        "colab": {}
      },
      "source": [
        "x2,_,_=to_sparse_batch(r1, adj1, torch.LongTensor(refMat).cuda())"
      ],
      "execution_count": null,
      "outputs": []
    },
    {
      "cell_type": "code",
      "metadata": {
        "id": "XHF27GzsMbhI",
        "colab_type": "code",
        "colab": {}
      },
      "source": [
        "adj1.shape"
      ],
      "execution_count": null,
      "outputs": []
    },
    {
      "cell_type": "code",
      "metadata": {
        "id": "TT5OwvZTOEQh",
        "colab_type": "code",
        "colab": {}
      },
      "source": [
        "r1[:,nodeCount,:].shape"
      ],
      "execution_count": null,
      "outputs": []
    },
    {
      "cell_type": "code",
      "metadata": {
        "id": "khXWO5T0LW3-",
        "colab_type": "code",
        "colab": {}
      },
      "source": [
        "lossMSE=torch.nn.MSELoss()\n",
        "lossMSE(x2,gra)"
      ],
      "execution_count": null,
      "outputs": []
    },
    {
      "cell_type": "code",
      "metadata": {
        "id": "QE-wrXNSJsVK",
        "colab_type": "code",
        "colab": {}
      },
      "source": [
        "testsets = ['../../parquets/Boosted_Jets_Sample-%i.snappy.parquet'%i for i in range(2,3)]\n",
        "testloader = get_data_loader(testsets, args.batch_size, cut = None, random_sampler = True)"
      ],
      "execution_count": 23,
      "outputs": []
    },
    {
      "cell_type": "code",
      "metadata": {
        "id": "O0LlRK4XYrS2",
        "colab_type": "code",
        "colab": {}
      },
      "source": [
        "pwd"
      ],
      "execution_count": null,
      "outputs": []
    },
    {
      "cell_type": "code",
      "metadata": {
        "id": "9BEg7D_fzoiT",
        "colab_type": "code",
        "colab": {
          "base_uri": "https://localhost:8080/",
          "height": 70
        },
        "outputId": "7a79adcf-0049-4d9e-bfb0-83f286260909"
      },
      "source": [
        "import time\n",
        "for epoch in range(1):\n",
        "      #model.train()\n",
        "  count=0\n",
        "  c1,c2=0,args.batch_size\n",
        "  epLoss=0\n",
        "  t = time.time()\n",
        "  model3.eval()\n",
        "  with torch.no_grad():\n",
        "    for i, data in enumerate(testloader):\n",
        "          ecal2 = data['X_jets'].cuda()\n",
        "          rawGraph=torchjets(ecal2,0,args.batch_size) ##Generating graphs from raw data \n",
        "          nodeCount=nodeCounter(rawGraph)\n",
        "          lengs=torch.LongTensor(np.hstack(assigner(np.array(nodeCount[c1:c2])-c1))).cuda()\n",
        "          \n",
        "          compress=torch_geometric.data.Batch.from_data_list(rawGraph)\n",
        "\n",
        "          gra=compress.x.to(device)\n",
        "          adj=compress.edge_index.to(device)\n",
        "\n",
        "          count+=1\n",
        "          refMat,maxCount=ref(args.batch_size,nodeCount,c1,c2)\n",
        "          \n",
        "          mask=torch.from_numpy(refMat).to(device)\n",
        "          #maxi=torch.from_numpy(np.array(maxCount)).to(device)\n",
        "\n",
        "          r1 ,adj1,mu,sig= model3(gra,adj,lengs.to(device),mask,2000)\n",
        "\n",
        "          loss = loss_function(r1,gra,nodeCount,lengs,2000,mu,sig)/args.batch_size\n",
        "\n",
        "          cur_loss = loss.item()\n",
        "          \n",
        "          epLoss+=float(cur_loss)\n",
        "\n",
        "\n",
        "          #c1+=args.batch_size\n",
        "          #c2+=args.batch_size\n",
        "          if count%20==0:\n",
        "              print(\"Epoch:\", '%04d' % (epoch + 1), \"train_loss=\", \"{:.5f}\".format(epLoss/count),\"time=\", \"{:.5f}\".format(time.time() - t))\n",
        "              t = time.time()\n",
        "              break;"
      ],
      "execution_count": 24,
      "outputs": [
        {
          "output_type": "stream",
          "text": [
            "/usr/local/lib/python3.6/dist-packages/torch/nn/functional.py:1558: UserWarning: nn.functional.tanh is deprecated. Use torch.tanh instead.\n",
            "  warnings.warn(\"nn.functional.tanh is deprecated. Use torch.tanh instead.\")\n"
          ],
          "name": "stderr"
        },
        {
          "output_type": "stream",
          "text": [
            "Epoch: 0001 train_loss= 84.03248 time= 27.37847\n"
          ],
          "name": "stdout"
        }
      ]
    },
    {
      "cell_type": "code",
      "metadata": {
        "id": "XzIGZiyCVd-3",
        "colab_type": "code",
        "colab": {
          "base_uri": "https://localhost:8080/",
          "height": 34
        },
        "outputId": "8fd17cf2-c09a-4ca8-c815-f89c83e0ee09"
      },
      "source": [
        "r1.shape\n"
      ],
      "execution_count": 25,
      "outputs": [
        {
          "output_type": "execute_result",
          "data": {
            "text/plain": [
              "torch.Size([16, 2000, 3])"
            ]
          },
          "metadata": {
            "tags": []
          },
          "execution_count": 25
        }
      ]
    },
    {
      "cell_type": "code",
      "metadata": {
        "id": "aURO-jq-VwIL",
        "colab_type": "code",
        "colab": {}
      },
      "source": [
        "\n",
        "import matplotlib.pyplot as plt\n",
        "import numpy as np\n",
        "import seaborn as sns\n",
        "from matplotlib.colors import LogNorm"
      ],
      "execution_count": null,
      "outputs": []
    },
    {
      "cell_type": "code",
      "metadata": {
        "id": "egy2I5Bc1uGz",
        "colab_type": "code",
        "colab": {
          "base_uri": "https://localhost:8080/",
          "height": 380
        },
        "outputId": "dad7c41d-e82e-41ba-acff-c58ffd22cf66"
      },
      "source": [
        "%matplotlib inline\n",
        "#xmin, xmax = min(lis4[:,0]), max(lis4[:,0])\n",
        "#ymin, ymax = min(lis4[:,1]), max(lis4[:,1])\n",
        "r12=r1[0].cpu().clone()\n",
        "xmin,xmax=0,125\n",
        "ymin,ymax=0,125\n",
        "binsxy = [int((xmax - xmin) / 50), int((ymax - ymin) / 50)]\n",
        "weights=np.exp(-r12[:300,2])\n",
        "plt.figure(figsize=(7,6))\n",
        "sc = plt.scatter(r12[:300,0],r12[:300,1],c=weights,cmap='viridis', norm=LogNorm(),alpha=0.9)\n",
        "plt.colorbar(sc)\n",
        "check=np.arange(0,140,10)\n",
        "plt.xticks(check)\n",
        "plt.yticks(check)\n",
        "plt.grid()\n"
      ],
      "execution_count": 29,
      "outputs": [
        {
          "output_type": "display_data",
          "data": {
            "image/png": "[encoded data removed]",
            "text/plain": [
              "<Figure size 504x432 with 2 Axes>"
            ]
          },
          "metadata": {
            "tags": [],
            "needs_background": "light"
          }
        }
      ]
    },
    {
      "cell_type": "code",
      "metadata": {
        "id": "LXgaj6Xd16Ev",
        "colab_type": "code",
        "colab": {
          "base_uri": "https://localhost:8080/",
          "height": 141
        },
        "outputId": "0ac8d9a7-f2da-4d7d-f85e-40c5812f3b97"
      },
      "source": [
        "gra"
      ],
      "execution_count": 28,
      "outputs": [
        {
          "output_type": "execute_result",
          "data": {
            "text/plain": [
              "tensor([[  1.0000,  34.0000,   3.6149],\n",
              "        [  1.0000,  35.0000,   3.6149],\n",
              "        [  2.0000,  34.0000,   3.6149],\n",
              "        ...,\n",
              "        [118.0000,  11.0000,   2.9602],\n",
              "        [121.0000,   1.0000,   3.6322],\n",
              "        [124.0000,  37.0000,   3.8149]], device='cuda:0')"
            ]
          },
          "metadata": {
            "tags": []
          },
          "execution_count": 28
        }
      ]
    },
    {
      "cell_type": "code",
      "metadata": {
        "id": "f4Rq7-HsWF53",
        "colab_type": "code",
        "colab": {
          "base_uri": "https://localhost:8080/",
          "height": 377
        },
        "outputId": "40d53615-5b1a-4979-8ebe-bcf15d91440d"
      },
      "source": [
        "%matplotlib inline\n",
        "r12=gra.cpu().clone()\n",
        "xmin,xmax=0,125\n",
        "ymin,ymax=0,125\n",
        "binsxy = [int((xmax - xmin) / 50), int((ymax - ymin) / 50)]\n",
        "weights=np.exp(-r12[:300,2])\n",
        "plt.figure(figsize=(7,6))\n",
        "sc = plt.scatter(r12[:300,0],r12[:300,1],c=weights,cmap='viridis', norm=LogNorm(),alpha=0.9)\n",
        "plt.colorbar(sc)\n",
        "check=np.arange(0,140,10)\n",
        "plt.xticks(check)\n",
        "plt.yticks(check)\n",
        "plt.grid()\n"
      ],
      "execution_count": 32,
      "outputs": [
        {
          "output_type": "display_data",
          "data": {
            "image/png": "[encoded data removed]",
            "text/plain": [
              "<Figure size 504x432 with 2 Axes>"
            ]
          },
          "metadata": {
            "tags": [],
            "needs_background": "light"
          }
        }
      ]
    },
    {
      "cell_type": "code",
      "metadata": {
        "id": "nU7409hwWX5X",
        "colab_type": "code",
        "colab": {}
      },
      "source": [
        ""
      ],
      "execution_count": null,
      "outputs": []
    }
  ]
}